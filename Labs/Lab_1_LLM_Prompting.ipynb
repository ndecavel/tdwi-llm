{
 "cells": [
  {
   "cell_type": "markdown",
   "metadata": {
    "colab_type": "text",
    "id": "view-in-github"
   },
   "source": [
    "<a href=\"https://colab.research.google.com/github/ndecavel/tdwi-llm/blob/main/%5BMAIN%5D_Lab_1_LLM_Prompting.ipynb\" target=\"_parent\"><img src=\"https://colab.research.google.com/assets/colab-badge.svg\" alt=\"Open In Colab\"/></a>"
   ]
  },
  {
   "cell_type": "markdown",
   "metadata": {
    "id": "kufoYFUT4eT4"
   },
   "source": [
    "# Hands-On Session 1: The Art of Prompting LLMs\n",
    "\n",
    "## Overview\n",
    "\n",
    "Welcome to Part 1(a) of our AI workshop series. In this session, you'll dive into the world of prompting large language models (LLMs), gaining some initial familiarity with effectively communicating with LLMs.\n",
    "\n",
    "## Learning Objectives\n",
    "By the end of this lab, you will:\n",
    "1. Craft effective prompts for diverse AI applications\n",
    "2. Understand and apply various prompting techniques\n",
    "3. Gain insights into AI safety through hands-on experience\n",
    "\n",
    "## 0. Using the tech stack\n",
    "\n",
    "* **Google Colab**: We'll use this free, cloud-based platform for easy setup and access to computational resources. While we're focusing on Colab, you can easily replicate this project in your local computing environment. (You're here!)\n",
    "* To run \"cells\" in Colab, either press the \"Play\" button in the upper left of the cell, or type Shift+Enter (hold down the keys together briefly).\n",
    "\n",
    "* **LiteLLM**: This library helps streamline interactions with a wide range of pre-trained LLMs. We'll use it to load and run our LLMs, and interact with the LLM.\n",
    "\n",
    "* **LLM**: We'll start with a handful of OpenAI and Gemini models.\n",
    "\n",
    "____\n",
    "## LAB 1-A: Prompting Fundamentals\n",
    "\n",
    "For this hands-on session, we will explore:\n",
    "\n",
    "- **Prompt Anatomy**: Explore system instructions, user inputs, and AI responses.\n",
    "- **Token Mechanics**: Understand what tokens are, how they are used in LLMs, and how to estimate both input and output costs of token use.\n",
    "- **Conversation Dynamics**: Compare single-turn queries and multi-turn dialogues.\n",
    "\n",
    "To begin, we need to install litellm in order to have a simple, unified interface to communicate with an LLM"
   ]
  },
  {
   "cell_type": "markdown",
   "metadata": {},
   "source": [
    "____\n",
    "#### Imports and Environmental Variables"
   ]
  },
  {
   "cell_type": "code",
   "execution_count": null,
   "metadata": {
    "id": "HCAD9xi04YWW"
   },
   "outputs": [],
   "source": [
    "import os\n",
    "\n",
    "from litellm import completion\n",
    "\n",
    "from IPython.display import display, Markdown, clear_output\n",
    "\n",
    "\n",
    "os.environ[\"OPENAI_API_KEY\"] = ### INSERT YOUR OPENAI API KEY\n",
    "os.environ[\"GEMINI_API_KEY\"] = ### INSERT YOUR GEMINI API KEY\n",
    "\n",
    "### Similarly, you can use use other providers such as Anthropic, Cohere, OpenRouter, Azure, Replicate, etc. "
   ]
  },
  {
   "cell_type": "markdown",
   "metadata": {
    "id": "vHJ1HKm_EOf5"
   },
   "source": [
    "### Create a simple LLM\n",
    "\n",
    "---\n",
    "Now let's try making a very simple LLM, technically a text-completion model."
   ]
  },
  {
   "cell_type": "code",
   "execution_count": null,
   "metadata": {
    "colab": {
     "base_uri": "https://localhost:8080/",
     "height": 81,
     "referenced_widgets": [
      "1e7ea3502c0a4f4a86959e111b8be2ae",
      "8e4ea8a79ee24863b483ae4d078f1993",
      "d6c9baebd9c347be8144d2eda6e96f76",
      "9656950a7bce40a68d982a327e7f918e",
      "38154d0f95bf48a08652288a3dd8cb60",
      "42baad61333e4db8ba51f9d391631135"
     ]
    },
    "id": "V4OR89eiKG2Q",
    "outputId": "cbad1685-1d6a-49b0-cd44-9db61863f254"
   },
   "outputs": [],
   "source": [
    "# Define the model options\n",
    "gemini_models = ['gemini/gemini-pro', 'gemini/gemini-1.5-flash', 'gemini/gemini-2.0-flash']\n",
    "openai_models = ['openai/gpt-4o-mini', 'openai/gpt-4o', 'openai/o1-mini']\n",
    "\n",
    "\n",
    "### Select our model from one of the above or any from litellm's list of provided models\n",
    "llm_model = 'gemini/gemini-2.0-flash'"
   ]
  },
  {
   "cell_type": "code",
   "execution_count": null,
   "metadata": {
    "colab": {
     "base_uri": "https://localhost:8080/",
     "height": 46
    },
    "id": "1gblDnWQJmLD",
    "outputId": "2490c4a0-b67c-4c4c-fbb5-13e4e220606d"
   },
   "outputs": [],
   "source": [
    "# Now send a prompt to the LLM\n",
    "user_prompt = \"What is the elevation of Mount Kilimanjaro?\"\n",
    "messages = [{\"content\": user_prompt, \"role\": \"user\"}]\n",
    "\n",
    "\n",
    "response = completion(model=llm_model, messages=messages)\n",
    "display(Markdown(response.choices[0].message.content))"
   ]
  },
  {
   "cell_type": "markdown",
   "metadata": {
    "id": "JVi1lIDLJDWz"
   },
   "source": [
    "**Congratulations**, you just created & programmatically interacted with your first LLM. 🎉\n",
    "\n"
   ]
  },
  {
   "cell_type": "markdown",
   "metadata": {
    "id": "rxXxpN4iKcu9"
   },
   "source": [
    "### Task 1\n",
    "\n",
    "Enter a new \"prompt_factoid\" below to test the LLM's responses.\n",
    "\n",
    "Try:\n",
    "\n",
    "*   Changing the question to a different 'factoid';\n",
    "*   Asking a more open-ended question;\n",
    "*   Asking a more business-specific question.\n",
    "\n",
    "\n",
    "*You can also go back to the previous code above and change the LLM model! Notice how the same prompt can have significantly different responses.*\n"
   ]
  },
  {
   "cell_type": "code",
   "execution_count": null,
   "metadata": {
    "colab": {
     "base_uri": "https://localhost:8080/",
     "height": 165,
     "referenced_widgets": [
      "3a75dd372a16451ab5a498fa21656726",
      "c47029cc22104aeda8accb97eb5dd501",
      "80863d9ecfac41f9ac8498b203ffd536",
      "1c015acde14d4e1a919bc917311ca9e9",
      "d4af82d7291d4c7bb1fa42345552a501",
      "60e54942d5b84812a85f27a03b27c961"
     ]
    },
    "id": "yNQ07_0gHKDP",
    "outputId": "6fdb7447-2471-43a7-8b7f-a1a2108fb294"
   },
   "outputs": [],
   "source": [
    "# Update the below user_prompt with your own input. \n",
    "user_prompt = \\\n",
    "\"\"\"\n",
    "[INSERT INPUT PROMPT HERE]\n",
    "\"\"\"\n",
    "\n",
    "messages = [{\"content\": user_prompt, \"role\": \"user\"}]\n",
    "\n",
    "\n",
    "response = completion(model=llm_model, messages=messages)\n",
    "display(Markdown(response.choices[0].message.content))"
   ]
  },
  {
   "cell_type": "markdown",
   "metadata": {
    "id": "VJ_v9jH6Kxwn"
   },
   "source": [
    "**PAUSE** here. Did you do the task above? What did you learn?\n",
    "\n",
    "![pause pillow.jpeg](data:image/jpeg;base64,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)"
   ]
  },
  {
   "cell_type": "markdown",
   "metadata": {
    "id": "hp7vOKjZLMtB"
   },
   "source": [
    "## Create a Chat LLM\n",
    "---\n",
    "Now let's try creating a slightly-more sophisticated model, a Chat LLM.\n",
    "\n",
    "What makes a chat model different from another LLM? A Chat LLM can engage in dialogue, going back & forth with the user, unlike a text-completion LLM which responds (once) to a (single) prompt. Therefore, we'll have to create a slightly more complex set of prompts to interact with the model, including System Messages and User (or Human) Messages."
   ]
  },
  {
   "cell_type": "markdown",
   "metadata": {
    "id": "XFp9G5oeLOU1"
   },
   "source": [
    "### Prompt Anatomy\n",
    "\n",
    "We usually think of a \"prompt\" as a simple piece of text that we send to a model, as we have been doing thus far. But prompts can include more than that. For example, they might include **system instructions** (like, \"Act as an expert in Python programming\") or different **parameters** like temperature to control randomness.\n",
    "\n",
    "There are three types of messages with an LLM:\n",
    "\n",
    "* **system messages** describe the behavior of the AI assistant. A useful system message for data science use cases is \"You are a helpful assistant who understands data science.\"\n",
    "* **user messages** describe what you want the AI assistant to say. We'll cover examples of user messages throughout this tutorial\n",
    "* **assistant messages** describe previous responses in the conversation. We'll cover how to have an interactive conversation later in this lab.\n",
    "\n",
    "The first message should be a system message. Additional messages should alternate between the user and the assistant.\n",
    "\n",
    "Let's create a chat LLM, then be a little more specific about our prompts to it."
   ]
  },
  {
   "cell_type": "code",
   "execution_count": null,
   "metadata": {
    "colab": {
     "base_uri": "https://localhost:8080/"
    },
    "id": "GjmYB2iGGI33",
    "outputId": "957b7123-a47f-4087-963b-d5d94b514154"
   },
   "outputs": [],
   "source": [
    "# Define the system message\n",
    "SYSTEM_MESSAGE = 'You are a helpful assistant who understands the business of interior decorating.'\n",
    "\n",
    "# Define the user message\n",
    "USER_MESSAGE = 'What color paint should I use for a living room in a house on the beach in San Diego?'\n",
    "\n",
    "messages_chat = [\n",
    "    {\"content\": SYSTEM_MESSAGE, \"role\": \"system\"},\n",
    "    {\"content\": USER_MESSAGE, \"role\": \"user\"}\n",
    "]\n",
    "\n",
    "### Note: We can add streaming in order to help with seeing the initial outputs sooner.\n",
    "response = completion(model=llm_model, messages=messages_chat, temperature=1, stream=True)\n",
    "res_so_far = \"\"\n",
    "for part in response:\n",
    "  if part.choices[0].delta.content:\n",
    "    res_so_far += part.choices[0].delta.content\n",
    "  print(res_so_far)\n",
    "  clear_output(wait=True)"
   ]
  },
  {
   "cell_type": "code",
   "execution_count": null,
   "metadata": {
    "colab": {
     "base_uri": "https://localhost:8080/",
     "height": 301
    },
    "id": "hBzd95abOlbb",
    "outputId": "0e7fe3f2-bd8f-4382-8b16-32690a618435"
   },
   "outputs": [],
   "source": [
    "display(Markdown(res_so_far))"
   ]
  },
  {
   "cell_type": "markdown",
   "metadata": {
    "id": "oyO8Su2HPVQQ"
   },
   "source": [
    "**Congratulations**, you just created & programmatically interacted with your first chat LLM. 🎉"
   ]
  },
  {
   "cell_type": "markdown",
   "metadata": {
    "id": "xoW2XqsZPW1L"
   },
   "source": [
    "### Task 2\n",
    "\n",
    "Try setting a different `SYSTEM_MESSAGE` variable in the below cell and see how it impacts the response.\n",
    "\n",
    "Try:\n",
    "\n",
    "*   Changing the role of the system;\n",
    "*   Setting a \"stylized\" response for the system (e.g.: 'in the style of Gandalf from The Hobbit');\n",
    "*   Etc.\n"
   ]
  },
  {
   "cell_type": "code",
   "execution_count": null,
   "metadata": {
    "colab": {
     "base_uri": "https://localhost:8080/",
     "height": 249
    },
    "id": "Cm-HCpYdOtKK",
    "outputId": "c507c075-0c59-47ca-d2a6-9a39f347067e"
   },
   "outputs": [],
   "source": [
    "# Define a new system message\n",
    "SYSTEM_MESSAGE = input(\"Enter a new prompt (instruction) into the box below,\\\n",
    "  \\nsomething like 'You are a lazy hourly worker at a paint store' or\\\n",
    "  \\n'Respond in the style of Gandalf from The Hobbit'\\\n",
    "  \\n& click 'Enter'. \")\n",
    "\n",
    "messages_chat = [\n",
    "    {\"content\": SYSTEM_MESSAGE, \"role\": \"system\"},\n",
    "    {\"content\": USER_MESSAGE, \"role\": \"user\"}\n",
    "]\n",
    "\n",
    "### Note: We can add streaming in order to help with seeing the initial outputs sooner.\n",
    "response = completion(model=llm_model, messages=messages_chat, temperature=1)\n",
    "display(Markdown(response.choices[0].message.content))"
   ]
  },
  {
   "cell_type": "markdown",
   "metadata": {
    "id": "coNygYQhQP9Q"
   },
   "source": [
    "**PAUSE** here. Did you do the task above? What did you learn?"
   ]
  },
  {
   "cell_type": "markdown",
   "metadata": {
    "id": "S0LX5_n5QRrU"
   },
   "source": [
    "![1F6D1_color.png](data:image/png;base64,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)"
   ]
  },
  {
   "cell_type": "markdown",
   "metadata": {
    "id": "Ul_wjPzLRKs-"
   },
   "source": [
    "**STOP** here - end of Lab 1-A."
   ]
  },
  {
   "cell_type": "markdown",
   "metadata": {
    "id": "UFnuIeyhRMS6"
   },
   "source": [
    "## LAB 1-B Complex Prompting"
   ]
  },
  {
   "cell_type": "markdown",
   "metadata": {
    "id": "bPDELXC4RSU7"
   },
   "source": [
    "### Prompt Templates\n",
    "\n",
    "Our prompts are starting to get a little complicated, with different types of messages and enforced order.\n",
    "\n",
    "Let's explore the use of a \"**prompt template**\" to help with all of this, giving us a structured starting point for our prompts to pass to the chat *LLM*."
   ]
  },
  {
   "cell_type": "code",
   "execution_count": null,
   "metadata": {
    "id": "RLP_27vcR55S"
   },
   "outputs": [],
   "source": [
    "from typing import List, Dict\n",
    "import pydantic\n",
    "\n",
    "class SimplePromptTemplate(pydantic.BaseModel):\n",
    "    city: str\n",
    "\n",
    "    def format_string(self) -> str:\n",
    "        return f\"What color paint should I use for a house in {self.city}.\"\n"
   ]
  },
  {
   "cell_type": "code",
   "execution_count": null,
   "metadata": {
    "colab": {
     "base_uri": "https://localhost:8080/"
    },
    "id": "ta6axu_nRK9c",
    "outputId": "3b4506b7-f819-42dc-8a49-0f2b3bd54f3a"
   },
   "outputs": [],
   "source": [
    "# Provide the value for the placeholder to create the prompt\n",
    "user_input = input(\"Enter a city (e.g., San Diego):\").strip()\n",
    "filled_prompt = SimplePromptTemplate(city=user_input).format_string()\n",
    "print(filled_prompt)"
   ]
  },
  {
   "cell_type": "code",
   "execution_count": null,
   "metadata": {
    "colab": {
     "base_uri": "https://localhost:8080/",
     "height": 341
    },
    "id": "UCgfMuGtSLer",
    "outputId": "99ee458c-4694-4b2b-909f-e2220017d469"
   },
   "outputs": [],
   "source": [
    "# Define the system message\n",
    "SYSTEM_MESSAGE = 'You are a helpful assistant who understands the business of interior decorating.'\n",
    "\n",
    "messages_chat = [\n",
    "    {\"content\": SYSTEM_MESSAGE, \"role\": \"system\"},\n",
    "    {\"content\": filled_prompt, \"role\": \"user\"}\n",
    "]\n",
    "\n",
    "### Note: We can add streaming in order to help with seeing the initial outputs sooner.\n",
    "response = completion(model=llm_model, messages=messages_chat, temperature=1)\n",
    "display(Markdown(response.choices[0].message.content))"
   ]
  },
  {
   "cell_type": "markdown",
   "metadata": {
    "id": "hyeh5XwESdFO"
   },
   "source": [
    "### Token Mechanics\n",
    "\n",
    "Our goals in this section are to understand what tokens are, how they are used in LLMs, and how to estimate both input and output costs of token use. Tokens can be thought of as pieces of words. Before the LLM API processes a request, the input is broken down into *tokens*. These tokens are not necessarily defined by exactly where the words start or end - tokens can include trailing spaces and even sub-words.\n",
    "\n",
    "* For hands-on exploration of tokenization, you can use OpenAI's [interactive Tokenizer tool](https://platform.openai.com/tokenizer), which allows you to calculate the number of tokens and see how text is broken into tokens.\n",
    "\n",
    "* You can find details on OpenAI's token pricing [here](https://openai.com/pricing).\n",
    "\n",
    "Let's first look at an extremely simple example of tracking token usage for a single LLM call."
   ]
  },
  {
   "cell_type": "code",
   "execution_count": null,
   "metadata": {
    "colab": {
     "base_uri": "https://localhost:8080/",
     "height": 159
    },
    "id": "4z27T5vLSdYZ",
    "outputId": "703cd9e2-6b57-4d18-862c-8ad3912eaf4d"
   },
   "outputs": [],
   "source": [
    "USER_INPUT = 'Can you tell me a 5-sentence joke?'\n",
    "response = completion(model=llm_model,temperature=0.8,\n",
    "                      messages=[{'role': 'user', 'content': USER_INPUT}])\n",
    "\n",
    "display(Markdown(response.choices[0].message.content))\n",
    "\n",
    "print(f\"Usage Information:\\n{response.json()['usage']}\")"
   ]
  },
  {
   "cell_type": "markdown",
   "metadata": {
    "id": "cwiuw50oSwou"
   },
   "source": [
    "### Task 3\n",
    "\n",
    "Notice that if you rerun the above cell multiple times, you will get different prompt outputs and costs (total tokens) associated with it!\n",
    "\n",
    "Try running that code a few more times.\n",
    "* Does the output change?\n",
    "* Does the output change if you change the prompt?\n",
    "* Does the output change if you make the prompt more complex?"
   ]
  },
  {
   "cell_type": "code",
   "execution_count": null,
   "metadata": {
    "colab": {
     "base_uri": "https://localhost:8080/",
     "height": 159
    },
    "id": "GOG54ggsS0YN",
    "outputId": "780f350d-2015-4384-c3f0-2047b64efff6"
   },
   "outputs": [],
   "source": [
    "USER_INPUT = 'Can you tell me a 5-sentence joke?'\n",
    "\n",
    "response = completion(model=llm_model,temperature=0.8,\n",
    "                      messages=[{'role': 'user', 'content': USER_INPUT}])\n",
    "\n",
    "display(Markdown(response.choices[0].message.content))\n",
    "\n",
    "print(f\"Usage Information:\\n{response.json()['usage']}\")"
   ]
  },
  {
   "cell_type": "markdown",
   "metadata": {
    "id": "waThTSruX8Kl"
   },
   "source": [
    "**PAUSE** here. Did you do the task above? What did you learn?"
   ]
  },
  {
   "cell_type": "markdown",
   "metadata": {
    "id": "LB8p5vF2X9W1"
   },
   "source": [
    "![pause pillow.jpeg](data:image/jpeg;base64,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)"
   ]
  },
  {
   "cell_type": "markdown",
   "metadata": {
    "id": "PrM8-80ZYFl5"
   },
   "source": [
    "### Model Experimentation\n",
    "\n",
    "For the second part of our lab, we will perform:\n",
    "\n",
    "- **Model Comparison**: Evaluate different LLMs\n",
    "- **Parameter Experimentation**: Experiment with temperature, top_p and other parameter settings\n",
    "- **Advanced Techniques**: Practice zero-shot, few-shot, and Chain-of-Thought prompting"
   ]
  },
  {
   "cell_type": "markdown",
   "metadata": {
    "id": "JJ0uzxliYKwC"
   },
   "source": [
    "**Model Comparison**\n",
    "\n",
    "Let's start by comparing OpenAI's `gpt-4o-mini` with Gemini's `gemini-1.5-flash`.\n",
    "\n",
    "Check to see if the responses differ at all from the previous responses you received."
   ]
  },
  {
   "cell_type": "code",
   "execution_count": null,
   "metadata": {
    "colab": {
     "base_uri": "https://localhost:8080/"
    },
    "id": "9xYmSlgLXz_Z",
    "outputId": "aa3f988f-58ed-4b98-e022-b0cf9186c41a"
   },
   "outputs": [],
   "source": [
    "prompt_to_test = \"What is the biggest animal in the world?\"\n",
    "\n",
    "\n",
    "\n",
    "openai_response = completion(model='openai/gpt-4o-mini',temperature=0.8,\n",
    "                      messages=[{'role': 'user', 'content': prompt_to_test}])\n",
    "\n",
    "gemini_response = completion(model='gemini/gemini-1.5-flash',temperature=0.8,\n",
    "                      messages=[{'role': 'user', 'content': prompt_to_test}])\n",
    "\n",
    "print(\"GPT-4o-mini response:\\n\\t\", openai_response.choices[0].message.content)\n",
    "print(\"Gemini-1.5-flash response:\\n\\t\", gemini_response.choices[0].message.content)\n"
   ]
  },
  {
   "cell_type": "markdown",
   "metadata": {
    "id": "nnNwN5S8YrsN"
   },
   "source": [
    "**PAUSE**, and consider the above. Play with it! Try other questions!"
   ]
  },
  {
   "cell_type": "markdown",
   "metadata": {
    "id": "KkF1IRmvYszv"
   },
   "source": [
    "![pause pillow.jpeg](data:image/jpeg;base64,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)"
   ]
  },
  {
   "cell_type": "markdown",
   "metadata": {
    "id": "tkymWMyjYvlR"
   },
   "source": [
    "### Parameter Experimentation\n",
    "\n",
    "Try simple things like changing the temperature of the model."
   ]
  },
  {
   "cell_type": "code",
   "execution_count": null,
   "metadata": {
    "colab": {
     "base_uri": "https://localhost:8080/",
     "height": 604
    },
    "id": "W0DEaZSwX2X6",
    "outputId": "574145b3-65d7-4a7e-85f2-21ad5f5c30ed"
   },
   "outputs": [],
   "source": [
    "for temperature in [0, 0.5, 1]:\n",
    "  print(f\"Temperature = {temperature}:\")\n",
    "  response = completion(model='gemini/gemini-pro',temperature=temperature,\n",
    "                      messages=[{'role': 'user', 'content': \"Why is the sky blue?\"}])\n",
    "  display(Markdown(response.choices[0].message.content))"
   ]
  },
  {
   "cell_type": "markdown",
   "metadata": {
    "id": "d6BnueMfZPwJ"
   },
   "source": [
    "![pause pillow.jpeg](data:image/jpeg;base64,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)"
   ]
  },
  {
   "cell_type": "markdown",
   "metadata": {
    "id": "moVvGezYZSBk"
   },
   "source": [
    "**PAUSE** here. What did you notice about the different temperature settings?"
   ]
  },
  {
   "cell_type": "markdown",
   "metadata": {
    "id": "A71v9XeVZWNI"
   },
   "source": [
    "### Advanced Techniques\n",
    "\n",
    "Practice zero-shot, few-shot, and Chain-of-Thought prompting."
   ]
  },
  {
   "cell_type": "markdown",
   "metadata": {
    "id": "J4joKCx5ZXBW"
   },
   "source": [
    "**Zero-Shot Prompting**\n",
    "\n",
    "Zero-shot prompting occurs when a model is asked to perform a task without any prior examples or context about how to perform that specific task. The prompt must be self-contained, as the model relies solely on its pre-trained knowledge to generate a response.\n",
    "\n",
    "Example Prompt:\n",
    "* Summarize the key impacts of the 2020 global pandemic on remote work trends.\n",
    "\n",
    "In this case, the model is expected to understand what is being asked and use its internal knowledge to provide a summary without any additional examples or guidance.\n"
   ]
  },
  {
   "cell_type": "code",
   "execution_count": null,
   "metadata": {
    "colab": {
     "base_uri": "https://localhost:8080/",
     "height": 372
    },
    "id": "aeUDWiNaZP7g",
    "outputId": "72dfd6fb-23d6-447c-cfaf-524e45ffcb75"
   },
   "outputs": [],
   "source": [
    "# try zero-shot\n",
    "prompt = \"Summarize the key impacts of the 2020 global pandemic on remote work trends.\"\n",
    "res_zero = completion(model='gemini/gemini-1.5-flash',temperature=temperature,\n",
    "                      messages=[{'role': 'user', 'content': prompt}])\n",
    "\n",
    "display(Markdown(res_zero.choices[0].message.content))"
   ]
  },
  {
   "cell_type": "markdown",
   "metadata": {
    "id": "8Un5CxRAZh22"
   },
   "source": [
    "\n",
    "**Few-Shot Prompting**\n",
    "\n",
    "Few-shot prompting involves providing a few examples to the model before presenting the actual task. This approach helps the model understand the desired format or the specific type of response needed.\n",
    "\n",
    "Example Prompt:\n",
    "\n",
    "```\n",
    "Example 1: Translate the English phrase \"Hello, how are you?\" to French.\n",
    "Answer: Bonjour, comment ça va?\n",
    "\n",
    "Example 2: Translate the English phrase \"What time is it?\" to French.\n",
    "Answer: Quelle heure est-il?\n",
    "\n",
    "Prompt: Translate the English phrase \"Where is the nearest restaurant?\" to French.\n",
    "```\n",
    "\n",
    "Here, the model is shown two examples of translation tasks, which sets the expectation that it should translate the third phrase from English to French in a similar format."
   ]
  },
  {
   "cell_type": "code",
   "execution_count": null,
   "metadata": {
    "colab": {
     "base_uri": "https://localhost:8080/",
     "height": 46
    },
    "id": "0UqK2FTFZgOv",
    "outputId": "0d663fdf-a031-4554-d8d8-34eac9c61a29"
   },
   "outputs": [],
   "source": [
    "# try few-shot prompting\n",
    "prompt = \"\"\"\n",
    "  Below are a few examples, followed by the prompt for you to follow.\n",
    "\n",
    "  Example 1: Translate the English phrase \"Hello, how are you?\" to French.\n",
    "  Answer: Bonjour, comment ça va?\n",
    "\n",
    "  Example 2: Translate the English phrase \"What time is it?\" to French.\n",
    "  Answer: Quelle heure est-il?\n",
    "\n",
    "  Prompt: Translate the English phrase \"Where is the nearest restaurant?\" to French.\"\"\"\n",
    "\n",
    "res_few = completion(model='gemini/gemini-1.5-flash',temperature=temperature,\n",
    "                    messages=[{'role': 'user', 'content': prompt}])\n",
    "\n",
    "display(Markdown(res_few.choices[0].message.content))"
   ]
  },
  {
   "cell_type": "markdown",
   "metadata": {
    "id": "T3nJotrUZouv"
   },
   "source": [
    "**Chain-of-Thought Prompting**\n",
    "\n",
    "Chain-of-Thought prompting guides the model through a logical sequence of steps or thoughts to reach a conclusion, particularly useful for complex reasoning tasks. This method helps models handle problems that require multiple inferential steps.\n",
    "\n",
    "Example Prompt:\n",
    "\n",
    "```\n",
    "Question: A farmer has 17 sheep, and all but 9 die. How many are left alive?\n",
    "Chain of Thought: The phrase \"all but 9 die\" means that 9 sheep remain alive.\n",
    "Answer: 9\n",
    "```\n",
    "\n",
    "In this example, the prompt explicitly outlines the reasoning process needed to answer the question, leading the model to the correct interpretation and response."
   ]
  },
  {
   "cell_type": "code",
   "execution_count": null,
   "metadata": {
    "colab": {
     "base_uri": "https://localhost:8080/",
     "height": 166
    },
    "id": "2lB9VyqQZo6f",
    "outputId": "caccf38c-bb86-4abf-e240-7432b0270707"
   },
   "outputs": [],
   "source": [
    "# try chain-of-thought prompting\n",
    "prompt = \"\"\"\n",
    "  I will pose a question, and you will provide your chain-of-thought reasoning to reach the answer.\n",
    "\n",
    "  Question: A farmer has 17 sheep, and all but 9 die. How many are left alive?\"\"\"\n",
    "\n",
    "res_cot = completion(model='gemini/gemini-1.5-flash',temperature=temperature,\n",
    "                    messages=[{'role': 'user', 'content': prompt}])\n",
    "\n",
    "display(Markdown(res_cot.choices[0].message.content))\n"
   ]
  },
  {
   "cell_type": "markdown",
   "metadata": {
    "id": "NXTPyCZ-Zu6k"
   },
   "source": [
    "**Usage Tips:**\n",
    "\n",
    "* **Zero-Shot**: Useful when querying general knowledge or opinions, or when the task is straightforward.\n",
    "* **Few-Shot**: Effective for tasks that require specific formats or where a model needs examples to \"learn\" the task quickly.\n",
    "* **Chain-of-Thought**: Best for complex reasoning, mathematics, or multi-step logical problems."
   ]
  },
  {
   "cell_type": "markdown",
   "metadata": {
    "id": "P4f24XD9Zv_w"
   },
   "source": [
    "## 3. AI Safety Challenge\n",
    "\n",
    "For the third and final part of this lab, we will do a:\n",
    "\n",
    "- **Prompt Hacking Exercise**: Test the limits of AI safety with the Gandalf challenge*\n",
    "  - URL: https://gandalf.lakera.ai/baseline\n",
    "  - Objective: Attempt to \"hack\" the AI chatbot using creative prompting techniques\n",
    "  - Time: Utilize any remaining lab time to see if you can get through all of the levels!\n",
    "\n",
    "*Note: For further exploration, look into safety tools like Meta's Prompt Guard and LLaMA Guard.\n"
   ]
  }
 ],
 "metadata": {
  "colab": {
   "authorship_tag": "ABX9TyOPS5etO5vQda3Pbo/t7B06",
   "include_colab_link": true,
   "provenance": []
  },
  "kernelspec": {
   "display_name": ".venv",
   "language": "python",
   "name": "python3"
  },
  "language_info": {
   "codemirror_mode": {
    "name": "ipython",
    "version": 3
   },
   "file_extension": ".py",
   "mimetype": "text/x-python",
   "name": "python",
   "nbconvert_exporter": "python",
   "pygments_lexer": "ipython3",
   "version": "3.9.6"
  },
  "widgets": {
   "application/vnd.jupyter.widget-state+json": {
    "1c015acde14d4e1a919bc917311ca9e9": {
     "model_module": "@jupyter-widgets/controls",
     "model_module_version": "1.5.0",
     "model_name": "ButtonModel",
     "state": {
      "_dom_classes": [],
      "_model_module": "@jupyter-widgets/controls",
      "_model_module_version": "1.5.0",
      "_model_name": "ButtonModel",
      "_view_count": null,
      "_view_module": "@jupyter-widgets/controls",
      "_view_module_version": "1.5.0",
      "_view_name": "ButtonView",
      "button_style": "",
      "description": "Submit",
      "disabled": false,
      "icon": "",
      "layout": "IPY_MODEL_d4af82d7291d4c7bb1fa42345552a501",
      "style": "IPY_MODEL_60e54942d5b84812a85f27a03b27c961",
      "tooltip": ""
     }
    },
    "1e7ea3502c0a4f4a86959e111b8be2ae": {
     "model_module": "@jupyter-widgets/controls",
     "model_module_version": "1.5.0",
     "model_name": "DropdownModel",
     "state": {
      "_dom_classes": [],
      "_model_module": "@jupyter-widgets/controls",
      "_model_module_version": "1.5.0",
      "_model_name": "DropdownModel",
      "_options_labels": [
       "Select a model",
       "gemini/gemini-pro",
       "gemini/gemini-1.5-flash",
       "gemini/gemini-2.0-flash",
       "openai/gpt-4o-mini",
       "openai/gpt-4o",
       "openai/o1-mini"
      ],
      "_view_count": null,
      "_view_module": "@jupyter-widgets/controls",
      "_view_module_version": "1.5.0",
      "_view_name": "DropdownView",
      "description": "Model:",
      "description_tooltip": null,
      "disabled": false,
      "index": 4,
      "layout": "IPY_MODEL_8e4ea8a79ee24863b483ae4d078f1993",
      "style": "IPY_MODEL_d6c9baebd9c347be8144d2eda6e96f76"
     }
    },
    "38154d0f95bf48a08652288a3dd8cb60": {
     "model_module": "@jupyter-widgets/base",
     "model_module_version": "1.2.0",
     "model_name": "LayoutModel",
     "state": {
      "_model_module": "@jupyter-widgets/base",
      "_model_module_version": "1.2.0",
      "_model_name": "LayoutModel",
      "_view_count": null,
      "_view_module": "@jupyter-widgets/base",
      "_view_module_version": "1.2.0",
      "_view_name": "LayoutView",
      "align_content": null,
      "align_items": null,
      "align_self": null,
      "border": null,
      "bottom": null,
      "display": null,
      "flex": null,
      "flex_flow": null,
      "grid_area": null,
      "grid_auto_columns": null,
      "grid_auto_flow": null,
      "grid_auto_rows": null,
      "grid_column": null,
      "grid_gap": null,
      "grid_row": null,
      "grid_template_areas": null,
      "grid_template_columns": null,
      "grid_template_rows": null,
      "height": null,
      "justify_content": null,
      "justify_items": null,
      "left": null,
      "margin": null,
      "max_height": null,
      "max_width": null,
      "min_height": null,
      "min_width": null,
      "object_fit": null,
      "object_position": null,
      "order": null,
      "overflow": null,
      "overflow_x": null,
      "overflow_y": null,
      "padding": null,
      "right": null,
      "top": null,
      "visibility": null,
      "width": null
     }
    },
    "3a75dd372a16451ab5a498fa21656726": {
     "model_module": "@jupyter-widgets/controls",
     "model_module_version": "1.5.0",
     "model_name": "TextareaModel",
     "state": {
      "_dom_classes": [],
      "_model_module": "@jupyter-widgets/controls",
      "_model_module_version": "1.5.0",
      "_model_name": "TextareaModel",
      "_view_count": null,
      "_view_module": "@jupyter-widgets/controls",
      "_view_module_version": "1.5.0",
      "_view_name": "TextareaView",
      "continuous_update": true,
      "description": "Prompt:",
      "description_tooltip": null,
      "disabled": false,
      "layout": "IPY_MODEL_c47029cc22104aeda8accb97eb5dd501",
      "placeholder": "Enter your prompt here",
      "rows": null,
      "style": "IPY_MODEL_80863d9ecfac41f9ac8498b203ffd536",
      "value": "Tell me a funny joke\n"
     }
    },
    "42baad61333e4db8ba51f9d391631135": {
     "model_module": "@jupyter-widgets/controls",
     "model_module_version": "1.5.0",
     "model_name": "ButtonStyleModel",
     "state": {
      "_model_module": "@jupyter-widgets/controls",
      "_model_module_version": "1.5.0",
      "_model_name": "ButtonStyleModel",
      "_view_count": null,
      "_view_module": "@jupyter-widgets/base",
      "_view_module_version": "1.2.0",
      "_view_name": "StyleView",
      "button_color": null,
      "font_weight": ""
     }
    },
    "60e54942d5b84812a85f27a03b27c961": {
     "model_module": "@jupyter-widgets/controls",
     "model_module_version": "1.5.0",
     "model_name": "ButtonStyleModel",
     "state": {
      "_model_module": "@jupyter-widgets/controls",
      "_model_module_version": "1.5.0",
      "_model_name": "ButtonStyleModel",
      "_view_count": null,
      "_view_module": "@jupyter-widgets/base",
      "_view_module_version": "1.2.0",
      "_view_name": "StyleView",
      "button_color": null,
      "font_weight": ""
     }
    },
    "80863d9ecfac41f9ac8498b203ffd536": {
     "model_module": "@jupyter-widgets/controls",
     "model_module_version": "1.5.0",
     "model_name": "DescriptionStyleModel",
     "state": {
      "_model_module": "@jupyter-widgets/controls",
      "_model_module_version": "1.5.0",
      "_model_name": "DescriptionStyleModel",
      "_view_count": null,
      "_view_module": "@jupyter-widgets/base",
      "_view_module_version": "1.2.0",
      "_view_name": "StyleView",
      "description_width": ""
     }
    },
    "8e4ea8a79ee24863b483ae4d078f1993": {
     "model_module": "@jupyter-widgets/base",
     "model_module_version": "1.2.0",
     "model_name": "LayoutModel",
     "state": {
      "_model_module": "@jupyter-widgets/base",
      "_model_module_version": "1.2.0",
      "_model_name": "LayoutModel",
      "_view_count": null,
      "_view_module": "@jupyter-widgets/base",
      "_view_module_version": "1.2.0",
      "_view_name": "LayoutView",
      "align_content": null,
      "align_items": null,
      "align_self": null,
      "border": null,
      "bottom": null,
      "display": null,
      "flex": null,
      "flex_flow": null,
      "grid_area": null,
      "grid_auto_columns": null,
      "grid_auto_flow": null,
      "grid_auto_rows": null,
      "grid_column": null,
      "grid_gap": null,
      "grid_row": null,
      "grid_template_areas": null,
      "grid_template_columns": null,
      "grid_template_rows": null,
      "height": null,
      "justify_content": null,
      "justify_items": null,
      "left": null,
      "margin": null,
      "max_height": null,
      "max_width": null,
      "min_height": null,
      "min_width": null,
      "object_fit": null,
      "object_position": null,
      "order": null,
      "overflow": null,
      "overflow_x": null,
      "overflow_y": null,
      "padding": null,
      "right": null,
      "top": null,
      "visibility": null,
      "width": null
     }
    },
    "9656950a7bce40a68d982a327e7f918e": {
     "model_module": "@jupyter-widgets/controls",
     "model_module_version": "1.5.0",
     "model_name": "ButtonModel",
     "state": {
      "_dom_classes": [],
      "_model_module": "@jupyter-widgets/controls",
      "_model_module_version": "1.5.0",
      "_model_name": "ButtonModel",
      "_view_count": null,
      "_view_module": "@jupyter-widgets/controls",
      "_view_module_version": "1.5.0",
      "_view_name": "ButtonView",
      "button_style": "",
      "description": "Submit",
      "disabled": false,
      "icon": "",
      "layout": "IPY_MODEL_38154d0f95bf48a08652288a3dd8cb60",
      "style": "IPY_MODEL_42baad61333e4db8ba51f9d391631135",
      "tooltip": ""
     }
    },
    "c47029cc22104aeda8accb97eb5dd501": {
     "model_module": "@jupyter-widgets/base",
     "model_module_version": "1.2.0",
     "model_name": "LayoutModel",
     "state": {
      "_model_module": "@jupyter-widgets/base",
      "_model_module_version": "1.2.0",
      "_model_name": "LayoutModel",
      "_view_count": null,
      "_view_module": "@jupyter-widgets/base",
      "_view_module_version": "1.2.0",
      "_view_name": "LayoutView",
      "align_content": null,
      "align_items": null,
      "align_self": null,
      "border": null,
      "bottom": null,
      "display": null,
      "flex": null,
      "flex_flow": null,
      "grid_area": null,
      "grid_auto_columns": null,
      "grid_auto_flow": null,
      "grid_auto_rows": null,
      "grid_column": null,
      "grid_gap": null,
      "grid_row": null,
      "grid_template_areas": null,
      "grid_template_columns": null,
      "grid_template_rows": null,
      "height": null,
      "justify_content": null,
      "justify_items": null,
      "left": null,
      "margin": null,
      "max_height": null,
      "max_width": null,
      "min_height": null,
      "min_width": null,
      "object_fit": null,
      "object_position": null,
      "order": null,
      "overflow": null,
      "overflow_x": null,
      "overflow_y": null,
      "padding": null,
      "right": null,
      "top": null,
      "visibility": null,
      "width": null
     }
    },
    "d4af82d7291d4c7bb1fa42345552a501": {
     "model_module": "@jupyter-widgets/base",
     "model_module_version": "1.2.0",
     "model_name": "LayoutModel",
     "state": {
      "_model_module": "@jupyter-widgets/base",
      "_model_module_version": "1.2.0",
      "_model_name": "LayoutModel",
      "_view_count": null,
      "_view_module": "@jupyter-widgets/base",
      "_view_module_version": "1.2.0",
      "_view_name": "LayoutView",
      "align_content": null,
      "align_items": null,
      "align_self": null,
      "border": null,
      "bottom": null,
      "display": null,
      "flex": null,
      "flex_flow": null,
      "grid_area": null,
      "grid_auto_columns": null,
      "grid_auto_flow": null,
      "grid_auto_rows": null,
      "grid_column": null,
      "grid_gap": null,
      "grid_row": null,
      "grid_template_areas": null,
      "grid_template_columns": null,
      "grid_template_rows": null,
      "height": null,
      "justify_content": null,
      "justify_items": null,
      "left": null,
      "margin": null,
      "max_height": null,
      "max_width": null,
      "min_height": null,
      "min_width": null,
      "object_fit": null,
      "object_position": null,
      "order": null,
      "overflow": null,
      "overflow_x": null,
      "overflow_y": null,
      "padding": null,
      "right": null,
      "top": null,
      "visibility": null,
      "width": null
     }
    },
    "d6c9baebd9c347be8144d2eda6e96f76": {
     "model_module": "@jupyter-widgets/controls",
     "model_module_version": "1.5.0",
     "model_name": "DescriptionStyleModel",
     "state": {
      "_model_module": "@jupyter-widgets/controls",
      "_model_module_version": "1.5.0",
      "_model_name": "DescriptionStyleModel",
      "_view_count": null,
      "_view_module": "@jupyter-widgets/base",
      "_view_module_version": "1.2.0",
      "_view_name": "StyleView",
      "description_width": ""
     }
    }
   }
  }
 },
 "nbformat": 4,
 "nbformat_minor": 0
}
